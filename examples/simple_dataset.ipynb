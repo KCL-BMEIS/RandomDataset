{
 "cells": [
  {
   "cell_type": "markdown",
   "metadata": {},
   "source": [
    "# Simple Example\n",
    "\n",
    "This example demonstrates creating a very simple and small dataset. \n",
    "\n",
    "First thing to do is import `randomdataset` from the parent of this directory:"
   ]
  },
  {
   "cell_type": "code",
   "execution_count": 1,
   "metadata": {},
   "outputs": [],
   "source": [
    "import os\n",
    "import sys\n",
    "\n",
    "sys.path.append(os.path.abspath(\"..\"))\n",
    "\n",
    "import randomdataset"
   ]
  },
  {
   "cell_type": "markdown",
   "metadata": {},
   "source": [
    "The YAML schema is written out which will be used to generate the random data:"
   ]
  },
  {
   "cell_type": "code",
   "execution_count": 6,
   "metadata": {},
   "outputs": [
    {
     "name": "stdout",
     "output_type": "stream",
     "text": [
      "Overwriting paymentschema.yaml\n"
     ]
    }
   ],
   "source": [
    "%%writefile paymentschema.yaml\n",
    "\n",
    "- typename: randomdataset.generators.CSVGenerator\n",
    "  num_lines: 10\n",
    "  dataset:\n",
    "    name: customers\n",
    "    typename: randomdataset.Dataset\n",
    "    fields:\n",
    "    - name: id\n",
    "      typename: randomdataset.UIDFieldGen\n",
    "    - name: FirstName\n",
    "      typename: randomdataset.StrFieldGen\n",
    "      lmin: 6\n",
    "      lmax: 14\n",
    "    - name: LastName\n",
    "      typename: randomdataset.StrFieldGen\n",
    "      lmin: 6\n",
    "      lmax: 14\n",
    "        \n",
    "- typename: randomdataset.generators.CSVGenerator\n",
    "  num_lines: 20\n",
    "  dataset:\n",
    "    name: payments\n",
    "    typename: randomdataset.Dataset\n",
    "    fields:\n",
    "    - name: date\n",
    "      typename: randomdataset.DateTimeFieldGen\n",
    "    - name: customer_id\n",
    "      typename: randomdataset.IntFieldGen\n",
    "      vmin: 0\n",
    "      vmax: 10\n",
    "    - name: amount\n",
    "      typename: randomdataset.FloatFieldGen\n",
    "      vmin: 0\n",
    "      vmax: 100"
   ]
  },
  {
   "cell_type": "markdown",
   "metadata": {},
   "source": [
    "All this schema does is instantiate Python objects. Each dictionary is used to define the type with the `typename` value with all other key-value pairs are passed as constructor arguments. If custom classes are present in the PYTHONPATH these can be constructed instead. Lists of dictionaries (for example under `fields`) are converted into a Python list of constructed objects. As shown here, `Dataset` requires a `name` argument containing a string and a list of `FieldGen` instances, while `CSVGenerator` requires a `num_lines` argument for the number of lines to generate followed by a `Dataset` instance named `dataset`.\n",
    "\n",
    "The generation is done by passing this schema to the `generate_dataset` command line utility in the library:\n",
    "\n",
    "```bash\n",
    "$ generate_dataset paymentschema.yaml .\n",
    "```\n",
    "\n",
    "This gives the schema file as the input, and the output is written to the current directory. Other directories can be specified which must already exist. The schema generates CSV data but others which require a target file would expect that to be provided in place of a directory name.\n",
    "\n",
    "\n",
    "Instead of invoking this utility the command can be called directly through the imported library:"
   ]
  },
  {
   "cell_type": "code",
   "execution_count": 7,
   "metadata": {},
   "outputs": [
    {
     "name": "stdout",
     "output_type": "stream",
     "text": [
      "Schema: 'paymentschema.yaml'\n",
      "Output: '.'\n"
     ]
    }
   ],
   "source": [
    "randomdataset.application.generate_dataset.callback(\"paymentschema.yaml\",\".\")"
   ]
  },
  {
   "cell_type": "markdown",
   "metadata": {},
   "source": [
    "The output is two CSV files, we can look at `customers.csv` to see the list of randomly generated customer:"
   ]
  },
  {
   "cell_type": "code",
   "execution_count": 8,
   "metadata": {},
   "outputs": [
    {
     "name": "stdout",
     "output_type": "stream",
     "text": [
      "id,FirstName,LastName\n",
      "0,\"QDFFgv4XBd5VW\",\"O1Odro\"\n",
      "1,\"Gp4mYq\",\"82IPIChjBALg\"\n",
      "2,\"LR7KVudB\",\"HcAPBwM\"\n",
      "3,\"6FfWGEYS0Q\",\"5NbspSBJk\"\n",
      "4,\"si1Tj0xSBB2\",\"eChYKAaW5aa8R\"\n",
      "5,\"DYP6OMerUUFOR\",\"pYNXUTNLqdrv\"\n",
      "6,\"ltfnhTgrJF\",\"2Rctye\"\n",
      "7,\"1tAoaDl57Lo5\",\"xMkVKt6O\"\n",
      "8,\"1yJImoqiwf\",\"IJICD8W6B8k\"\n",
      "9,\"XkYgS7\",\"8owHyjR\"\n"
     ]
    }
   ],
   "source": [
    "!cat customers.csv"
   ]
  }
 ],
 "metadata": {
  "kernelspec": {
   "display_name": "Python [conda env:root] *",
   "language": "python",
   "name": "conda-root-py"
  },
  "language_info": {
   "codemirror_mode": {
    "name": "ipython",
    "version": 3
   },
   "file_extension": ".py",
   "mimetype": "text/x-python",
   "name": "python",
   "nbconvert_exporter": "python",
   "pygments_lexer": "ipython3",
   "version": "3.7.7"
  }
 },
 "nbformat": 4,
 "nbformat_minor": 5
}
