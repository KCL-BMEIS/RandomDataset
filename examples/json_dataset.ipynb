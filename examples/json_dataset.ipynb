{
 "cells": [
  {
   "attachments": {},
   "cell_type": "markdown",
   "metadata": {},
   "source": [
    "# JSON Example\n",
    "\n",
    "This example demonstrates creating a very simple and small dataset in JSON format. Refer to the [Simple Dataset](./simple_dataset.ipynb) example for more details on what is being demonstrated here as the contents are broadly the same.\n",
    "\n",
    "First thing to do is import `randomdataset` from the parent of this directory:"
   ]
  },
  {
   "cell_type": "code",
   "execution_count": 1,
   "id": "95e9168d",
   "metadata": {},
   "outputs": [],
   "source": [
    "import os\n",
    "import sys\n",
    "\n",
    "sys.path.append(os.path.abspath(\"..\"))\n",
    "\n",
    "import randomdataset"
   ]
  },
  {
   "cell_type": "markdown",
   "id": "700fb00f",
   "metadata": {},
   "source": [
    "The YAML schema is written out which will be used to generate the random data:"
   ]
  },
  {
   "cell_type": "code",
   "execution_count": 2,
   "id": "293ea7d5",
   "metadata": {},
   "outputs": [
    {
     "name": "stdout",
     "output_type": "stream",
     "text": [
      "Overwriting paymentschema_json.yaml\n"
     ]
    }
   ],
   "source": [
    "%%writefile paymentschema_json.yaml\n",
    "\n",
    "- typename: randomdataset.generators.JSONGenerator\n",
    "  num_lines: 10\n",
    "  dataset:\n",
    "    name: customers\n",
    "    typename: randomdataset.Dataset\n",
    "    fields:\n",
    "    - name: id\n",
    "      typename: randomdataset.UIDFieldGen\n",
    "    - name: FirstName\n",
    "      typename: randomdataset.StrFieldGen\n",
    "      lmin: 6\n",
    "      lmax: 14\n",
    "    - name: LastName\n",
    "      typename: randomdataset.StrFieldGen\n",
    "      lmin: 6\n",
    "      lmax: 14\n",
    "        \n",
    "- typename: randomdataset.generators.JSONGenerator\n",
    "  num_lines: 20\n",
    "  dataset:\n",
    "    name: payments\n",
    "    typename: randomdataset.Dataset\n",
    "    fields:\n",
    "    - name: date\n",
    "      typename: randomdataset.DateTimeFieldGen\n",
    "    - name: customer_id\n",
    "      typename: randomdataset.IntFieldGen\n",
    "      vmin: 0\n",
    "      vmax: 10\n",
    "    - name: amount\n",
    "      typename: randomdataset.FloatFieldGen\n",
    "      vmin: 0\n",
    "      vmax: 100"
   ]
  },
  {
   "attachments": {},
   "cell_type": "markdown",
   "id": "8c59dace",
   "metadata": {},
   "source": [
    "The generation is done by passing this schema to the `generate_dataset` command line utility in the library:\n",
    "\n",
    "```bash\n",
    "$ generate_dataset paymentschema_json.yaml .\n",
    "```\n",
    "\n",
    "Instead of invoking this utility the command can be called directly through the imported library:"
   ]
  },
  {
   "cell_type": "code",
   "execution_count": 3,
   "id": "eb78199c",
   "metadata": {},
   "outputs": [
    {
     "name": "stdout",
     "output_type": "stream",
     "text": [
      "Schema: 'paymentschema_json.yaml'\n",
      "Output: '.'\n",
      "Generating dataset 'customers'\n",
      "Generating dataset 'payments'\n"
     ]
    }
   ],
   "source": [
    "randomdataset.application.generate_dataset.callback(\"paymentschema_json.yaml\", \".\")"
   ]
  },
  {
   "attachments": {},
   "cell_type": "markdown",
   "id": "3391769e",
   "metadata": {},
   "source": [
    "The output is two JSON files, we can look at `customers_json.csv` to see the list of randomly generated customer:"
   ]
  },
  {
   "cell_type": "code",
   "execution_count": 9,
   "id": "248fecbc",
   "metadata": {},
   "outputs": [
    {
     "name": "stdout",
     "output_type": "stream",
     "text": [
      "{\n",
      "    \"header\": [\"id\", \"FirstName\", \"LastName\"],\n",
      "    \"data\": [\n",
      "        [0, \"cFF3vm5XGeh\", \"NpweyS\"],\n",
      "        [1, \"X4xOvr\", \"Dx5yAslv\"],\n",
      "        [2, \"OHjeDIqm0J\", \"xDNQMubp3fbpD\"],\n",
      "        [3, \"q6JJwF\", \"jwKSf6kGvY3S\"],\n",
      "        [4, \"wrwGkTtIdjg8V\", \"JtlEx5YqoSMs\"],\n",
      "        [5, \"xMyhP335D\", \"4RuKdiD5\"],\n",
      "        [6, \"pgusVtOScPu\", \"lEtjY1lg\"],\n",
      "        [7, \"GwtQnDFBSwG\", \"02vaMHEe5D2\"],\n",
      "        [8, \"vTVBAJKbi\", \"47HlCy\"],\n",
      "        [9, \"XA56V36msh\", \"coDvP6hmNQSX\"]\n",
      "    ]\n",
      "}\n",
      "\n"
     ]
    }
   ],
   "source": [
    "print(open(\"customers.json\").read())"
   ]
  },
  {
   "attachments": {},
   "cell_type": "markdown",
   "id": "145efc09",
   "metadata": {},
   "source": [
    "This data can be loaded with the `json` library to get a dictionary containing the `header` and `data` components:"
   ]
  },
  {
   "cell_type": "code",
   "execution_count": 7,
   "id": "66c9ba98",
   "metadata": {},
   "outputs": [
    {
     "name": "stdout",
     "output_type": "stream",
     "text": [
      "{'header': ['id', 'FirstName', 'LastName'], 'data': [[0, 'cFF3vm5XGeh', 'NpweyS'], [1, 'X4xOvr', 'Dx5yAslv'], [2, 'OHjeDIqm0J', 'xDNQMubp3fbpD'], [3, 'q6JJwF', 'jwKSf6kGvY3S'], [4, 'wrwGkTtIdjg8V', 'JtlEx5YqoSMs'], [5, 'xMyhP335D', '4RuKdiD5'], [6, 'pgusVtOScPu', 'lEtjY1lg'], [7, 'GwtQnDFBSwG', '02vaMHEe5D2'], [8, 'vTVBAJKbi', '47HlCy'], [9, 'XA56V36msh', 'coDvP6hmNQSX']]}\n"
     ]
    }
   ],
   "source": [
    "import json\n",
    "\n",
    "with open(\"customers.json\") as o:\n",
    "    data = json.load(o)\n",
    "\n",
    "print(data)"
   ]
  },
  {
   "attachments": {},
   "cell_type": "markdown",
   "id": "25019e4e",
   "metadata": {},
   "source": [
    "Using a Jupyter widget a tree view can be created:"
   ]
  },
  {
   "cell_type": "code",
   "execution_count": 8,
   "id": "51755663",
   "metadata": {},
   "outputs": [
    {
     "data": {
      "application/json": {
       "data": [
        [
         0,
         "cFF3vm5XGeh",
         "NpweyS"
        ],
        [
         1,
         "X4xOvr",
         "Dx5yAslv"
        ],
        [
         2,
         "OHjeDIqm0J",
         "xDNQMubp3fbpD"
        ],
        [
         3,
         "q6JJwF",
         "jwKSf6kGvY3S"
        ],
        [
         4,
         "wrwGkTtIdjg8V",
         "JtlEx5YqoSMs"
        ],
        [
         5,
         "xMyhP335D",
         "4RuKdiD5"
        ],
        [
         6,
         "pgusVtOScPu",
         "lEtjY1lg"
        ],
        [
         7,
         "GwtQnDFBSwG",
         "02vaMHEe5D2"
        ],
        [
         8,
         "vTVBAJKbi",
         "47HlCy"
        ],
        [
         9,
         "XA56V36msh",
         "coDvP6hmNQSX"
        ]
       ],
       "header": [
        "id",
        "FirstName",
        "LastName"
       ]
      },
      "text/plain": [
       "<IPython.core.display.JSON object>"
      ]
     },
     "execution_count": 8,
     "metadata": {
      "application/json": {
       "expanded": false,
       "root": "root"
      }
     },
     "output_type": "execute_result"
    }
   ],
   "source": [
    "from IPython.display import JSON\n",
    "JSON(data)"
   ]
  },
  {
   "attachments": {},
   "cell_type": "markdown",
   "id": "c1ab1535",
   "metadata": {},
   "source": [
    "Constructing a Pandas dataframe is straight forward from here:"
   ]
  },
  {
   "cell_type": "code",
   "execution_count": 7,
   "id": "459bdb7e",
   "metadata": {},
   "outputs": [
    {
     "data": {
      "text/html": [
       "<div>\n",
       "<style scoped>\n",
       "    .dataframe tbody tr th:only-of-type {\n",
       "        vertical-align: middle;\n",
       "    }\n",
       "\n",
       "    .dataframe tbody tr th {\n",
       "        vertical-align: top;\n",
       "    }\n",
       "\n",
       "    .dataframe thead th {\n",
       "        text-align: right;\n",
       "    }\n",
       "</style>\n",
       "<table border=\"1\" class=\"dataframe\">\n",
       "  <thead>\n",
       "    <tr style=\"text-align: right;\">\n",
       "      <th></th>\n",
       "      <th>id</th>\n",
       "      <th>FirstName</th>\n",
       "      <th>LastName</th>\n",
       "    </tr>\n",
       "  </thead>\n",
       "  <tbody>\n",
       "    <tr>\n",
       "      <th>0</th>\n",
       "      <td>0</td>\n",
       "      <td>cFF3vm5XGeh</td>\n",
       "      <td>NpweyS</td>\n",
       "    </tr>\n",
       "    <tr>\n",
       "      <th>1</th>\n",
       "      <td>1</td>\n",
       "      <td>X4xOvr</td>\n",
       "      <td>Dx5yAslv</td>\n",
       "    </tr>\n",
       "    <tr>\n",
       "      <th>2</th>\n",
       "      <td>2</td>\n",
       "      <td>OHjeDIqm0J</td>\n",
       "      <td>xDNQMubp3fbpD</td>\n",
       "    </tr>\n",
       "    <tr>\n",
       "      <th>3</th>\n",
       "      <td>3</td>\n",
       "      <td>q6JJwF</td>\n",
       "      <td>jwKSf6kGvY3S</td>\n",
       "    </tr>\n",
       "    <tr>\n",
       "      <th>4</th>\n",
       "      <td>4</td>\n",
       "      <td>wrwGkTtIdjg8V</td>\n",
       "      <td>JtlEx5YqoSMs</td>\n",
       "    </tr>\n",
       "    <tr>\n",
       "      <th>5</th>\n",
       "      <td>5</td>\n",
       "      <td>xMyhP335D</td>\n",
       "      <td>4RuKdiD5</td>\n",
       "    </tr>\n",
       "    <tr>\n",
       "      <th>6</th>\n",
       "      <td>6</td>\n",
       "      <td>pgusVtOScPu</td>\n",
       "      <td>lEtjY1lg</td>\n",
       "    </tr>\n",
       "    <tr>\n",
       "      <th>7</th>\n",
       "      <td>7</td>\n",
       "      <td>GwtQnDFBSwG</td>\n",
       "      <td>02vaMHEe5D2</td>\n",
       "    </tr>\n",
       "    <tr>\n",
       "      <th>8</th>\n",
       "      <td>8</td>\n",
       "      <td>vTVBAJKbi</td>\n",
       "      <td>47HlCy</td>\n",
       "    </tr>\n",
       "    <tr>\n",
       "      <th>9</th>\n",
       "      <td>9</td>\n",
       "      <td>XA56V36msh</td>\n",
       "      <td>coDvP6hmNQSX</td>\n",
       "    </tr>\n",
       "  </tbody>\n",
       "</table>\n",
       "</div>"
      ],
      "text/plain": [
       "   id      FirstName       LastName\n",
       "0   0    cFF3vm5XGeh         NpweyS\n",
       "1   1         X4xOvr       Dx5yAslv\n",
       "2   2     OHjeDIqm0J  xDNQMubp3fbpD\n",
       "3   3         q6JJwF   jwKSf6kGvY3S\n",
       "4   4  wrwGkTtIdjg8V   JtlEx5YqoSMs\n",
       "5   5      xMyhP335D       4RuKdiD5\n",
       "6   6    pgusVtOScPu       lEtjY1lg\n",
       "7   7    GwtQnDFBSwG    02vaMHEe5D2\n",
       "8   8      vTVBAJKbi         47HlCy\n",
       "9   9     XA56V36msh   coDvP6hmNQSX"
      ]
     },
     "execution_count": 7,
     "metadata": {},
     "output_type": "execute_result"
    }
   ],
   "source": [
    "import pandas as pd\n",
    "\n",
    "pd.DataFrame(data[\"data\"], columns=data[\"header\"])"
   ]
  }
 ],
 "metadata": {
  "kernelspec": {
   "display_name": "monai",
   "language": "python",
   "name": "python3"
  },
  "language_info": {
   "codemirror_mode": {
    "name": "ipython",
    "version": 3
   },
   "file_extension": ".py",
   "mimetype": "text/x-python",
   "name": "python",
   "nbconvert_exporter": "python",
   "pygments_lexer": "ipython3",
   "version": "3.9.15"
  }
 },
 "nbformat": 4,
 "nbformat_minor": 5
}
