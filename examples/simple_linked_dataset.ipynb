{
 "cells": [
  {
   "cell_type": "markdown",
   "id": "95087344",
   "metadata": {
    "tags": []
   },
   "source": [
    "# Simple Linked Example\n",
    "\n",
    "Uses shared state to recall unique IDs between datasets."
   ]
  },
  {
   "cell_type": "code",
   "execution_count": 1,
   "id": "b59623ed",
   "metadata": {},
   "outputs": [
    {
     "name": "stdout",
     "output_type": "stream",
     "text": [
      "Overwriting user_assessments.yaml\n"
     ]
    }
   ],
   "source": [
    "%%writefile user_assessments.yaml\n",
    "\n",
    "- typename: randomdataset.generators.CSVGenerator\n",
    "  num_lines: 10\n",
    "  dataset:\n",
    "    name: users\n",
    "    typename: randomdataset.Dataset\n",
    "    fields:\n",
    "    - name: id\n",
    "      typename: randomdataset.UIDFieldGen\n",
    "      shared_state_name: user_ids\n",
    "    - name: FirstName\n",
    "      typename: randomdataset.AlphaNameGen\n",
    "    - name: LastName\n",
    "      typename: randomdataset.AlphaNameGen\n",
    "      is_first_name: False\n",
    "    - name: bmi\n",
    "      typename: randomdataset.IntFieldGen\n",
    "      vmin: 20\n",
    "      vmax: 40\n",
    "    - name: has_diabetes\n",
    "      typename: randomdataset.IntFieldGen\n",
    "      vmin: 0\n",
    "      vmax: 2\n",
    "    - name: height_cm\n",
    "      typename: randomdataset.IntFieldGen\n",
    "      vmin: 100\n",
    "      vmax: 200\n",
    "    - name: year_of_birth\n",
    "      typename: randomdataset.IntFieldGen\n",
    "      vmin: 1920\n",
    "      vmax: 2010\n",
    "    \n",
    "- typename: randomdataset.generators.CSVGenerator\n",
    "  num_lines: 30\n",
    "  dataset:\n",
    "    name: assessments\n",
    "    typename: randomdataset.Dataset\n",
    "    fields:\n",
    "    - name: id\n",
    "      typename: randomdataset.UIDFieldGen\n",
    "    - name: date\n",
    "      typename: randomdataset.DateTimeFieldGen\n",
    "      as_string: True\n",
    "    - name: user_id\n",
    "      typename: randomdataset.SharedDataGen\n",
    "      source_state_name: user_ids\n",
    "      field_type: int\n",
    "    - name: abdominal_pain\n",
    "      typename: randomdataset.IntFieldGen\n",
    "      vmin: 0\n",
    "      vmax: 2\n",
    "    - name: brain_fog\n",
    "      typename: randomdataset.IntFieldGen\n",
    "      vmin: 0\n",
    "      vmax: 2\n",
    "    - name: loss_of_smell\n",
    "      typename: randomdataset.IntFieldGen\n",
    "      vmin: 0\n",
    "      vmax: 2\n",
    "    - name: tested_covid_positive\n",
    "      typename: randomdataset.IntFieldGen\n",
    "      vmin: 0\n",
    "      vmax: 3\n",
    "    - name: temperature_f\n",
    "      typename: randomdataset.FloatFieldGen\n",
    "      vmin: 95\n",
    "      vmax: 110\n",
    "    "
   ]
  },
  {
   "cell_type": "code",
   "execution_count": 1,
   "id": "6d51c67b",
   "metadata": {},
   "outputs": [],
   "source": [
    "import os\n",
    "import sys\n",
    "\n",
    "sys.path.append(os.path.abspath(\"..\"))\n",
    "\n",
    "import randomdataset"
   ]
  },
  {
   "cell_type": "code",
   "execution_count": 4,
   "id": "bb32159e",
   "metadata": {},
   "outputs": [
    {
     "name": "stdout",
     "output_type": "stream",
     "text": [
      "Schema: 'user_assessments.yaml'\n",
      "Output: '.'\n",
      "Generating dataset 'users'\n",
      "Generating dataset 'assessments'\n"
     ]
    }
   ],
   "source": [
    "randomdataset.application.generate_dataset.callback(\"user_assessments.yaml\",\".\")"
   ]
  },
  {
   "cell_type": "code",
   "execution_count": 5,
   "id": "869ebb9a",
   "metadata": {},
   "outputs": [
    {
     "name": "stdout",
     "output_type": "stream",
     "text": [
      "id,FirstName,LastName,bmi,has_diabetes,height_cm,year_of_birth\n",
      "0,\"Quin\",\"Blargs\",20,0,189,2003\n",
      "1,\"Peggy\",\"Unknown\",36,1,121,1952\n",
      "2,\"Grace\",\"Bar\",23,1,135,1947\n",
      "3,\"Zoe\",\"Unknown\",26,0,196,2003\n",
      "4,\"Kylie\",\"Thunk\",28,1,104,1985\n",
      "5,\"Ivan\",\"Thunk\",27,1,152,1944\n",
      "6,\"Judy\",\"Anon\",28,1,178,1951\n",
      "7,\"Judy\",\"Anon\",21,1,193,2005\n",
      "8,\"Yan\",\"Blargs\",32,0,155,1947\n",
      "9,\"Dan\",\"Nemo\",23,0,179,1961\n"
     ]
    }
   ],
   "source": [
    "!cat users.csv"
   ]
  },
  {
   "cell_type": "code",
   "execution_count": 6,
   "id": "723cdb3a-2fa9-4298-8199-282dfcf6086b",
   "metadata": {},
   "outputs": [
    {
     "name": "stdout",
     "output_type": "stream",
     "text": [
      "id,date,user_id,abdominal_pain,brain_fog,loss_of_smell,tested_covid_positive,temperature_f\n",
      "0,2022-01-31 13:10:19.470142+00:00,0,0,1,0,2,107.49023514725474\n",
      "1,2021-11-12 04:17:56.782553+00:00,1,0,1,1,0,105.6942570124724\n",
      "2,2022-01-01 14:31:02.775222+00:00,2,1,0,0,0,96.54598657012015\n",
      "3,2021-06-11 19:21:16.500351+00:00,3,0,1,1,0,105.10060277211116\n",
      "4,2022-01-24 17:25:45.546875+00:00,4,1,0,1,2,104.78580411362383\n",
      "5,2021-05-19 19:28:55.347014+00:00,5,1,1,0,0,99.1889494912643\n",
      "6,2021-05-11 00:53:23.349521+00:00,6,0,1,1,2,109.46725811260491\n",
      "7,2021-07-10 11:37:36.951190+00:00,7,0,1,0,0,95.14845661460399\n",
      "8,2021-11-12 16:39:51.889504+00:00,8,1,0,0,0,97.73890279974026\n",
      "9,2022-02-11 04:39:26.788180+00:00,9,1,1,1,0,98.02984864593004\n",
      "10,2021-06-06 21:30:19.920080+00:00,0,1,1,0,1,104.13524032621973\n",
      "11,2022-02-08 03:18:02.527770+00:00,1,1,1,1,1,105.399991356878\n",
      "12,2021-02-20 14:45:30.235950+00:00,2,1,1,1,2,105.81507610779525\n",
      "13,2021-03-25 15:01:35.580187+00:00,3,0,0,0,2,103.39740560144419\n",
      "14,2021-06-25 12:42:53.454412+00:00,4,1,1,0,0,96.42637849054682\n",
      "15,2021-04-22 12:51:03.968833+00:00,5,0,0,0,0,105.55405159339217\n",
      "16,2022-01-17 06:01:40.192258+00:00,6,1,0,0,1,99.86833477733987\n",
      "17,2021-11-02 17:39:19.250052+00:00,7,0,0,1,0,95.18785494148366\n",
      "18,2021-05-13 00:49:28.529711+00:00,8,1,0,0,0,109.91900084649247\n",
      "19,2021-05-25 07:32:23.442792+00:00,9,0,1,0,2,96.64168142544378\n",
      "20,2021-10-27 17:07:20.268680+00:00,0,1,0,0,0,109.68642285851755\n",
      "21,2021-09-29 00:53:43.371019+00:00,1,1,1,0,0,102.94022684794106\n",
      "22,2021-05-18 08:01:57.282126+00:00,2,0,0,0,1,100.35970556649822\n",
      "23,2021-04-13 09:12:11.682754+00:00,3,0,1,1,1,104.13998240599659\n",
      "24,2022-01-08 18:03:39.408368+00:00,4,1,1,1,2,100.98163078840906\n",
      "25,2021-10-12 00:02:50.612215+00:00,5,1,0,0,2,100.93178587364822\n",
      "26,2021-05-03 10:47:21.937449+00:00,6,0,1,0,0,109.75762878101882\n",
      "27,2021-10-31 03:55:50.569103+00:00,7,0,0,0,0,105.49404619459615\n",
      "28,2021-07-16 22:25:12.780141+00:00,8,1,1,0,0,100.03338355808135\n",
      "29,2021-08-04 17:27:07.316704+00:00,9,1,0,1,1,108.0929488715657\n"
     ]
    }
   ],
   "source": [
    "!cat assessments.csv"
   ]
  },
  {
   "cell_type": "code",
   "execution_count": 5,
   "id": "4658fd72-a2a4-4e8a-ae7a-1875c5952fb9",
   "metadata": {},
   "outputs": [
    {
     "name": "stdout",
     "output_type": "stream",
     "text": [
      "Overwriting user_assessments.json\n"
     ]
    }
   ],
   "source": [
    "%%writefile user_assessments.json\n",
    "\n",
    "{\n",
    "  \"exetera\": {\n",
    "    \"version\": \"1.0.0\"\n",
    "  },\n",
    "  \"schema\": {\n",
    "    \"users\": {\n",
    "      \"primary_keys\": [\n",
    "        \"id\"\n",
    "      ],\n",
    "      \"fields\": {\n",
    "        \"id\": {\n",
    "          \"field_type\": \"fixed_string\",\n",
    "          \"length\": 32\n",
    "        },\n",
    "        \"FirstName\": {\n",
    "          \"field_type\": \"string\"\n",
    "        },\n",
    "        \"LastName\": {\n",
    "          \"field_type\": \"string\"\n",
    "        },\n",
    "        \"bmi\": {\n",
    "          \"field_type\": \"numeric\",\n",
    "          \"value_type\": \"int32\"\n",
    "        },\n",
    "        \"has_diabetes\": {\n",
    "          \"field_type\": \"categorical\",\n",
    "          \"categorical\": {\n",
    "            \"value_type\": \"int8\",\n",
    "            \"strings_to_values\": {\n",
    "              \"\": 0,\n",
    "              \"False\": 1,\n",
    "              \"True\": 2\n",
    "            }\n",
    "          }\n",
    "        },\n",
    "        \"height_cm\": {\n",
    "          \"field_type\": \"numeric\",\n",
    "          \"value_type\": \"int32\"\n",
    "        },   \n",
    "        \"year_of_birth\": {\n",
    "          \"field_type\": \"numeric\",\n",
    "          \"value_type\": \"int32\"\n",
    "        }\n",
    "      }\n",
    "    },\n",
    "    \"assessments\": {\n",
    "      \"primary_keys\": [\n",
    "        \"id\"\n",
    "      ],\n",
    "      \"foreign_keys\": {\n",
    "        \"user_id_key\": {\n",
    "          \"space\": \"users\",\n",
    "          \"key\": \"id\"\n",
    "        }\n",
    "      },\n",
    "      \"fields\": {\n",
    "        \"id\": {\n",
    "          \"field_type\": \"fixed_string\",\n",
    "          \"length\": 32\n",
    "        },\n",
    "        \"date\": {\n",
    "          \"field_type\": \"datetime\"\n",
    "        },\n",
    "        \"user_id\": {\n",
    "          \"field_type\": \"fixed_string\",\n",
    "          \"length\": 32\n",
    "        },\n",
    "        \"abdominal_pain\": {\n",
    "          \"field_type\": \"categorical\",\n",
    "          \"categorical\": {\n",
    "            \"value_type\": \"int8\",\n",
    "            \"strings_to_values\": {\n",
    "              \"\": 0,\n",
    "              \"False\": 1,\n",
    "              \"True\": 2\n",
    "            }\n",
    "          }\n",
    "        },\n",
    "        \"brain_fog\": {\n",
    "          \"field_type\": \"categorical\",\n",
    "          \"categorical\": {\n",
    "            \"value_type\": \"int8\",\n",
    "            \"strings_to_values\": {\n",
    "              \"\": 0,\n",
    "              \"False\": 1,\n",
    "              \"True\": 2\n",
    "            }\n",
    "          }\n",
    "        },\n",
    "        \"loss_of_smell\": {\n",
    "          \"field_type\": \"categorical\",\n",
    "          \"categorical\": {\n",
    "            \"value_type\": \"int8\",\n",
    "            \"strings_to_values\": {\n",
    "              \"\": 0,\n",
    "              \"False\": 1,\n",
    "              \"True\": 2\n",
    "            }\n",
    "          }\n",
    "        },\n",
    "        \"tested_covid_positive\": {\n",
    "          \"field_type\": \"categorical\",\n",
    "          \"categorical\": {\n",
    "            \"value_type\": \"int8\",\n",
    "            \"strings_to_values\": {\n",
    "              \"\": 0,\n",
    "              \"waiting\": 1,\n",
    "              \"no\": 2,\n",
    "              \"yes\": 3\n",
    "            }\n",
    "          }\n",
    "        },\n",
    "        \"temperature_f\": {\n",
    "          \"field_type\": \"numeric\",\n",
    "          \"value_type\": \"float32\"\n",
    "        }\n",
    "      }\n",
    "    }\n",
    "  }\n",
    "}"
   ]
  },
  {
   "cell_type": "code",
   "execution_count": 1,
   "id": "0d1dc28b-78a1-493f-892f-339ba0c268f8",
   "metadata": {},
   "outputs": [],
   "source": [
    "import sys, os\n",
    "sys.path.append(os.path.abspath(\"../../exetera/ExeTera\"))\n",
    "import exetera"
   ]
  },
  {
   "cell_type": "code",
   "execution_count": 7,
   "id": "88366fba-e472-4d9a-9f9b-c91891742583",
   "metadata": {},
   "outputs": [
    {
     "name": "stdout",
     "output_type": "stream",
     "text": [
      "read_file_using_fast_csv_reader: 1 chunks, 10 accumulated_written_rows parsed in 0.8907837867736816s\n",
      "completed in 0.8990933895111084 seconds\n",
      "Total time 0.8994894027709961s\n",
      "read_file_using_fast_csv_reader: 1 chunks, 30 accumulated_written_rows parsed in 0.12972235679626465s\n",
      "completed in 0.13634133338928223 seconds\n",
      "Total time 0.1364729404449463s\n"
     ]
    }
   ],
   "source": [
    "import exetera\n",
    "\n",
    "from exetera.io import importer\n",
    "from exetera.core import session\n",
    "from datetime import datetime, timezone\n",
    "\n",
    "with session.Session() as s:\n",
    "    importer.import_with_schema(\n",
    "        session=s,\n",
    "        timestamp=str(datetime.now(timezone.utc)),\n",
    "        dataset_alias=\"UserAssessments\",\n",
    "        dataset_filename=\"user_assessments.hdf5\",\n",
    "        schema_file=\"user_assessments.json\",\n",
    "        files={\"users\": \"users.csv\", \"assessments\":\"assessments.csv\"},\n",
    "        overwrite=True,\n",
    "    )"
   ]
  },
  {
   "cell_type": "code",
   "execution_count": null,
   "id": "d093380b-8394-4795-95f4-41935dd76422",
   "metadata": {},
   "outputs": [],
   "source": [
    "%%bash\n",
    "\n",
    "rm -f user_assessments.hdf5\n",
    "exetera import -w -s user_assessments.json -i \"users:users.csv, assessments:assessments.csv\" -o user_assessments.hdf5\n",
    "ls -lh"
   ]
  }
 ],
 "metadata": {
  "kernelspec": {
   "display_name": "Python [conda env:exetera_py38]",
   "language": "python",
   "name": "conda-env-exetera_py38-py"
  },
  "language_info": {
   "codemirror_mode": {
    "name": "ipython",
    "version": 3
   },
   "file_extension": ".py",
   "mimetype": "text/x-python",
   "name": "python",
   "nbconvert_exporter": "python",
   "pygments_lexer": "ipython3",
   "version": "3.8.12"
  }
 },
 "nbformat": 4,
 "nbformat_minor": 5
}
