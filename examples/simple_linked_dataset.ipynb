{
 "cells": [
  {
   "cell_type": "markdown",
   "id": "95087344",
   "metadata": {
    "tags": []
   },
   "source": [
    "# Simple Linked Example\n",
    "\n",
    "Uses shared state to recall unique IDs between datasets."
   ]
  },
  {
   "cell_type": "code",
   "execution_count": 8,
   "id": "6938b51c-86b4-4191-b165-2872fac3e949",
   "metadata": {},
   "outputs": [],
   "source": [
    "!mkdir -p users_assessments"
   ]
  },
  {
   "cell_type": "code",
   "execution_count": 9,
   "id": "b59623ed",
   "metadata": {},
   "outputs": [
    {
     "name": "stdout",
     "output_type": "stream",
     "text": [
      "Writing users_assessments/user_assessments.yaml\n"
     ]
    }
   ],
   "source": [
    "%%writefile users_assessments/user_assessments.yaml\n",
    "\n",
    "- typename: randomdataset.generators.CSVGenerator\n",
    "  num_lines: 10\n",
    "  dataset:\n",
    "    name: users\n",
    "    typename: randomdataset.Dataset\n",
    "    fields:\n",
    "    - name: id\n",
    "      typename: randomdataset.UIDFieldGen\n",
    "      shared_state_name: user_ids\n",
    "    - name: FirstName\n",
    "      typename: randomdataset.AlphaNameGen\n",
    "    - name: LastName\n",
    "      typename: randomdataset.AlphaNameGen\n",
    "      is_first_name: False\n",
    "    - name: bmi\n",
    "      typename: randomdataset.IntFieldGen\n",
    "      vmin: 20\n",
    "      vmax: 40\n",
    "    - name: has_diabetes\n",
    "      typename: randomdataset.IntFieldGen\n",
    "      vmin: 0\n",
    "      vmax: 2\n",
    "    - name: height_cm\n",
    "      typename: randomdataset.IntFieldGen\n",
    "      vmin: 100\n",
    "      vmax: 200\n",
    "    - name: year_of_birth\n",
    "      typename: randomdataset.IntFieldGen\n",
    "      vmin: 1920\n",
    "      vmax: 2010\n",
    "    \n",
    "- typename: randomdataset.generators.CSVGenerator\n",
    "  num_lines: 30\n",
    "  dataset:\n",
    "    name: assessments\n",
    "    typename: randomdataset.Dataset\n",
    "    fields:\n",
    "    - name: id\n",
    "      typename: randomdataset.UIDFieldGen\n",
    "    - name: date\n",
    "      typename: randomdataset.DateTimeFieldGen\n",
    "      as_string: True\n",
    "    - name: user_id\n",
    "      typename: randomdataset.SharedDataGen\n",
    "      source_state_name: user_ids\n",
    "      field_type: int\n",
    "    - name: abdominal_pain\n",
    "      typename: randomdataset.IntFieldGen\n",
    "      vmin: 0\n",
    "      vmax: 2\n",
    "    - name: brain_fog\n",
    "      typename: randomdataset.IntFieldGen\n",
    "      vmin: 0\n",
    "      vmax: 2\n",
    "    - name: loss_of_smell\n",
    "      typename: randomdataset.IntFieldGen\n",
    "      vmin: 0\n",
    "      vmax: 2\n",
    "    - name: tested_covid_positive\n",
    "      typename: randomdataset.IntFieldGen\n",
    "      vmin: 0\n",
    "      vmax: 3\n",
    "    - name: temperature_f\n",
    "      typename: randomdataset.FloatFieldGen\n",
    "      vmin: 95\n",
    "      vmax: 110\n",
    "    "
   ]
  },
  {
   "cell_type": "code",
   "execution_count": 1,
   "id": "6d51c67b",
   "metadata": {},
   "outputs": [],
   "source": [
    "import os\n",
    "import sys\n",
    "\n",
    "sys.path.append(os.path.abspath(\"..\"))\n",
    "\n",
    "import randomdataset"
   ]
  },
  {
   "cell_type": "code",
   "execution_count": 10,
   "id": "bb32159e",
   "metadata": {},
   "outputs": [
    {
     "name": "stdout",
     "output_type": "stream",
     "text": [
      "Schema: 'users_assessments/user_assessments.yaml'\n",
      "Output: 'users_assessments'\n",
      "Generating dataset 'users'\n",
      "Generating dataset 'assessments'\n"
     ]
    }
   ],
   "source": [
    "randomdataset.application.generate_dataset.callback(\"users_assessments/user_assessments.yaml\",\"users_assessments\")"
   ]
  },
  {
   "cell_type": "code",
   "execution_count": 11,
   "id": "869ebb9a",
   "metadata": {},
   "outputs": [
    {
     "name": "stdout",
     "output_type": "stream",
     "text": [
      "id,FirstName,LastName,bmi,has_diabetes,height_cm,year_of_birth\n",
      "0,\"Grace\",\"None\",39,1,130,1967\n",
      "1,\"Carol\",\"Nobody\",38,0,119,1975\n",
      "2,\"Wendy\",\"Random\",28,0,128,1926\n",
      "3,\"Mallory\",\"Nobody\",25,0,117,1944\n",
      "4,\"Xavier\",\"Unknown\",29,1,190,1974\n",
      "5,\"Olivia\",\"Thunk\",26,0,107,2004\n",
      "6,\"Xavier\",\"Anon\",30,0,175,1973\n",
      "7,\"Xavier\",\"Null\",37,0,140,1963\n",
      "8,\"Ivan\",\"Bloggs\",37,0,134,1999\n",
      "9,\"Trudy\",\"Bar\",28,0,116,1929\n"
     ]
    }
   ],
   "source": [
    "!cat users_assessments/users.csv"
   ]
  },
  {
   "cell_type": "code",
   "execution_count": 12,
   "id": "723cdb3a-2fa9-4298-8199-282dfcf6086b",
   "metadata": {},
   "outputs": [
    {
     "name": "stdout",
     "output_type": "stream",
     "text": [
      "id,date,user_id,abdominal_pain,brain_fog,loss_of_smell,tested_covid_positive,temperature_f\n",
      "0,2021-10-24 11:45:43.677374+00:00,0,0,1,1,2,103.22149054047082\n",
      "1,2021-12-16 13:09:58.380573+00:00,1,0,1,0,0,100.62518751030662\n",
      "2,2021-08-05 17:51:30.943546+00:00,2,0,0,1,0,105.18487884609749\n",
      "3,2021-04-09 14:47:54.599226+00:00,3,1,0,1,0,96.4302053852154\n",
      "4,2021-09-29 00:15:42.142405+00:00,4,1,1,1,0,109.63616106818489\n",
      "5,2021-04-24 09:53:44.215726+00:00,5,1,0,0,1,107.69840121429907\n",
      "6,2021-11-13 07:35:32.840341+00:00,6,0,0,0,1,97.00309019318361\n",
      "7,2022-02-14 00:08:04.885913+00:00,7,1,0,0,1,95.22598358524823\n",
      "8,2022-02-07 15:36:57.841132+00:00,8,0,0,0,2,95.48740949212532\n",
      "9,2021-02-21 01:48:38.675272+00:00,9,0,1,1,0,106.27664175133276\n",
      "10,2021-08-05 00:06:12.343504+00:00,0,0,1,1,0,103.07544677653925\n",
      "11,2021-11-07 21:52:41.868990+00:00,1,1,0,0,2,102.81942527899108\n",
      "12,2021-05-20 14:49:01.700189+00:00,2,0,0,0,2,103.25591242165508\n",
      "13,2021-09-28 03:13:05.410689+00:00,3,0,1,1,1,98.99925665317788\n",
      "14,2022-01-21 13:39:41.914258+00:00,4,1,1,1,0,104.73914713718412\n",
      "15,2021-04-06 10:40:50.447460+00:00,5,0,0,1,1,95.47080459402937\n",
      "16,2021-12-20 01:53:04.166355+00:00,6,0,1,0,0,97.79758064358536\n",
      "17,2021-10-11 18:45:24.349922+00:00,7,0,1,0,0,95.87860080008119\n",
      "18,2021-04-04 13:14:36.124810+00:00,8,0,1,1,1,108.78273531994027\n",
      "19,2022-02-14 06:51:09.464885+00:00,9,0,0,0,2,100.28032607623044\n",
      "20,2021-05-17 14:09:07.047752+00:00,0,0,0,1,1,100.79853200088986\n",
      "21,2021-06-11 01:13:23.001260+00:00,1,0,1,1,1,104.63677316034355\n",
      "22,2021-04-06 04:16:39.361154+00:00,2,1,1,0,1,107.68363442020022\n",
      "23,2021-06-27 01:21:21.633768+00:00,3,1,0,1,1,97.08478382878046\n",
      "24,2021-11-02 17:52:04.146347+00:00,4,1,1,1,2,103.44636506288838\n",
      "25,2021-06-12 11:58:35.491048+00:00,5,1,0,0,1,95.8026824345136\n",
      "26,2021-03-09 13:52:33.458577+00:00,6,0,1,1,0,100.76416498492172\n",
      "27,2021-04-27 12:37:30.891582+00:00,7,1,1,0,0,103.99752973377511\n",
      "28,2022-01-10 02:08:42.584960+00:00,8,0,0,0,2,102.30838309482037\n",
      "29,2021-03-18 03:06:36.735481+00:00,9,1,1,1,0,96.4187993279403\n"
     ]
    }
   ],
   "source": [
    "!cat users_assessments/assessments.csv"
   ]
  },
  {
   "cell_type": "code",
   "execution_count": 13,
   "id": "4658fd72-a2a4-4e8a-ae7a-1875c5952fb9",
   "metadata": {},
   "outputs": [
    {
     "name": "stdout",
     "output_type": "stream",
     "text": [
      "Writing users_assessments/user_assessments.json\n"
     ]
    }
   ],
   "source": [
    "%%writefile users_assessments/user_assessments.json\n",
    "\n",
    "{\n",
    "  \"exetera\": {\n",
    "    \"version\": \"1.0.0\"\n",
    "  },\n",
    "  \"schema\": {\n",
    "    \"users\": {\n",
    "      \"primary_keys\": [\n",
    "        \"id\"\n",
    "      ],\n",
    "      \"fields\": {\n",
    "        \"id\": {\n",
    "          \"field_type\": \"fixed_string\",\n",
    "          \"length\": 32\n",
    "        },\n",
    "        \"FirstName\": {\n",
    "          \"field_type\": \"string\"\n",
    "        },\n",
    "        \"LastName\": {\n",
    "          \"field_type\": \"string\"\n",
    "        },\n",
    "        \"bmi\": {\n",
    "          \"field_type\": \"numeric\",\n",
    "          \"value_type\": \"int32\"\n",
    "        },\n",
    "        \"has_diabetes\": {\n",
    "          \"field_type\": \"categorical\",\n",
    "          \"categorical\": {\n",
    "            \"value_type\": \"int8\",\n",
    "            \"strings_to_values\": {\n",
    "              \"\": 0,\n",
    "              \"False\": 1,\n",
    "              \"True\": 2\n",
    "            }\n",
    "          }\n",
    "        },\n",
    "        \"height_cm\": {\n",
    "          \"field_type\": \"numeric\",\n",
    "          \"value_type\": \"int32\"\n",
    "        },   \n",
    "        \"year_of_birth\": {\n",
    "          \"field_type\": \"numeric\",\n",
    "          \"value_type\": \"int32\"\n",
    "        }\n",
    "      }\n",
    "    },\n",
    "    \"assessments\": {\n",
    "      \"primary_keys\": [\n",
    "        \"id\"\n",
    "      ],\n",
    "      \"foreign_keys\": {\n",
    "        \"user_id_key\": {\n",
    "          \"space\": \"users\",\n",
    "          \"key\": \"id\"\n",
    "        }\n",
    "      },\n",
    "      \"fields\": {\n",
    "        \"id\": {\n",
    "          \"field_type\": \"fixed_string\",\n",
    "          \"length\": 32\n",
    "        },\n",
    "        \"date\": {\n",
    "          \"field_type\": \"datetime\"\n",
    "        },\n",
    "        \"user_id\": {\n",
    "          \"field_type\": \"fixed_string\",\n",
    "          \"length\": 32\n",
    "        },\n",
    "        \"abdominal_pain\": {\n",
    "          \"field_type\": \"categorical\",\n",
    "          \"categorical\": {\n",
    "            \"value_type\": \"int8\",\n",
    "            \"strings_to_values\": {\n",
    "              \"\": 0,\n",
    "              \"False\": 1,\n",
    "              \"True\": 2\n",
    "            }\n",
    "          }\n",
    "        },\n",
    "        \"brain_fog\": {\n",
    "          \"field_type\": \"categorical\",\n",
    "          \"categorical\": {\n",
    "            \"value_type\": \"int8\",\n",
    "            \"strings_to_values\": {\n",
    "              \"\": 0,\n",
    "              \"False\": 1,\n",
    "              \"True\": 2\n",
    "            }\n",
    "          }\n",
    "        },\n",
    "        \"loss_of_smell\": {\n",
    "          \"field_type\": \"categorical\",\n",
    "          \"categorical\": {\n",
    "            \"value_type\": \"int8\",\n",
    "            \"strings_to_values\": {\n",
    "              \"\": 0,\n",
    "              \"False\": 1,\n",
    "              \"True\": 2\n",
    "            }\n",
    "          }\n",
    "        },\n",
    "        \"tested_covid_positive\": {\n",
    "          \"field_type\": \"categorical\",\n",
    "          \"categorical\": {\n",
    "            \"value_type\": \"int8\",\n",
    "            \"strings_to_values\": {\n",
    "              \"\": 0,\n",
    "              \"waiting\": 1,\n",
    "              \"no\": 2,\n",
    "              \"yes\": 3\n",
    "            }\n",
    "          }\n",
    "        },\n",
    "        \"temperature_f\": {\n",
    "          \"field_type\": \"numeric\",\n",
    "          \"value_type\": \"float32\"\n",
    "        }\n",
    "      }\n",
    "    }\n",
    "  }\n",
    "}"
   ]
  },
  {
   "cell_type": "code",
   "execution_count": 14,
   "id": "88366fba-e472-4d9a-9f9b-c91891742583",
   "metadata": {},
   "outputs": [
    {
     "name": "stdout",
     "output_type": "stream",
     "text": [
      "read_file_using_fast_csv_reader: 1 chunks, 10 accumulated_written_rows parsed in 0.010171890258789062s\n",
      "completed in 0.018576860427856445 seconds\n",
      "Total time 0.01882028579711914s\n",
      "read_file_using_fast_csv_reader: 1 chunks, 30 accumulated_written_rows parsed in 0.006245851516723633s\n",
      "completed in 0.01291799545288086 seconds\n",
      "Total time 0.013108015060424805s\n"
     ]
    }
   ],
   "source": [
    "import exetera\n",
    "\n",
    "from exetera.io import importer\n",
    "from exetera.core import session\n",
    "from datetime import datetime, timezone\n",
    "\n",
    "# exetera import -w -s user_assessments.json -i \"users:users.csv, assessments:assessments.csv\" -o user_assessments.hdf5\n",
    "with session.Session() as s:\n",
    "    importer.import_with_schema(\n",
    "        session=s,\n",
    "        timestamp=str(datetime.now(timezone.utc)),\n",
    "        dataset_alias=\"UserAssessments\",\n",
    "        dataset_filename=\"user_assessments.hdf5\",\n",
    "        schema_file=\"users_assessments/user_assessments.json\",\n",
    "        files={\"users\": \"users_assessments/users.csv\", \"assessments\":\"users_assessments/assessments.csv\"},\n",
    "        overwrite=True,\n",
    "    )"
   ]
  }
 ],
 "metadata": {
  "kernelspec": {
   "name": "conda-env-exetera_py38-py"
  },
  "language_info": {
   "codemirror_mode": {
    "name": "ipython",
    "version": 3
   },
   "file_extension": ".py",
   "mimetype": "text/x-python",
   "name": "python",
   "nbconvert_exporter": "python",
   "pygments_lexer": "ipython3",
   "version": "3.8.12"
  }
 },
 "nbformat": 4,
 "nbformat_minor": 5
}
