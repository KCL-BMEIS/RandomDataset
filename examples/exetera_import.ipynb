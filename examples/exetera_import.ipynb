{
 "cells": [
  {
   "cell_type": "code",
   "execution_count": 3,
   "id": "ed9565ba",
   "metadata": {},
   "outputs": [],
   "source": [
    "import os\n",
    "import sys\n",
    "\n",
    "sys.path.append(os.path.abspath(\"..\"))\n",
    "\n",
    "import randomdataset\n"
   ]
  },
  {
   "cell_type": "code",
   "execution_count": 33,
   "id": "f71d1584",
   "metadata": {},
   "outputs": [
    {
     "name": "stdout",
     "output_type": "stream",
     "text": [
      "Overwriting randomschema.yaml\n"
     ]
    }
   ],
   "source": [
    "%%writefile randomschema.yaml\n",
    "\n",
    "- name: participants\n",
    "  typename: randomdataset.Dataset\n",
    "  fields:\n",
    "  - name: id\n",
    "    typename: randomdataset.UIDFieldGen\n",
    "  - name: FirstName\n",
    "    typename: randomdataset.StrFieldGen\n",
    "    lmin: 6\n",
    "    lmax: 14\n",
    "  - name: LastName\n",
    "    typename: randomdataset.StrFieldGen\n",
    "    lmin: 6\n",
    "    lmax: 14\n",
    "  - name: Age\n",
    "    typename: randomdataset.IntFieldGen\n",
    "    vmin: 18\n",
    "    vmax: 90\n",
    "  - name: is_employed\n",
    "    typename: randomdataset.BoolFieldGen\n",
    "    as_string: False\n",
    "        \n",
    "- name: tests\n",
    "  typename: randomdataset.Dataset\n",
    "  fields:\n",
    "  - name: id\n",
    "    typename: randomdataset.UIDFieldGen\n",
    "  - name: patient_id\n",
    "    typename: randomdataset.UIDFieldGen\n",
    "  - name: test_type\n",
    "    typename: randomdataset.SetFieldGen\n",
    "    field_type: str\n",
    "    values: [\"Type1\", \"Type2\", \"Unknown\"]\n",
    "  - name: location\n",
    "    typename: randomdataset.StrFieldGen\n",
    "  - name: result\n",
    "    typename: randomdataset.IntFieldGen\n",
    "    vmin: 0\n",
    "    vmax: 3\n",
    "  - name: value\n",
    "    typename: randomdataset.FloatFieldGen\n",
    "    vmin: 0\n",
    "    vmax: 9"
   ]
  },
  {
   "cell_type": "code",
   "execution_count": 35,
   "id": "999cbc61",
   "metadata": {},
   "outputs": [
    {
     "name": "stdout",
     "output_type": "stream",
     "text": [
      "Schema: '<unopened file 'randomschema.yaml' r>'\n",
      "Output: 'C:\\Users\\Eric\\workspace\\RandomDataset\\examples'\n",
      "Generating 10 lines with 'randomdataset.generators.CSVGenerator'\n"
     ]
    }
   ],
   "source": [
    "!generate_dataset randomschema.yaml ."
   ]
  },
  {
   "cell_type": "code",
   "execution_count": 23,
   "id": "04135b5b",
   "metadata": {},
   "outputs": [
    {
     "name": "stdout",
     "output_type": "stream",
     "text": [
      "Overwriting exeteraschema.json\n"
     ]
    }
   ],
   "source": [
    "%%writefile exeteraschema.json\n",
    "\n",
    "{\n",
    "  \"exetera\": {\n",
    "    \"version\": \"1.0.0\"\n",
    "  },\n",
    "  \"schema\": {\n",
    "    \"participants\": {\n",
    "      \"primary_keys\": [\n",
    "        \"id\"\n",
    "      ],\n",
    "      \"fields\": {\n",
    "        \"id\": {\n",
    "          \"field_type\": \"fixed_string\",\n",
    "          \"length\": 32\n",
    "        },\n",
    "        \"FirstName\": {\n",
    "          \"field_type\": \"string\"\n",
    "        },\n",
    "        \"LastName\": {\n",
    "          \"field_type\": \"string\"\n",
    "        },\n",
    "        \"Age\": {\n",
    "          \"field_type\": \"numeric\",\n",
    "          \"value_type\": \"int32\"\n",
    "        },\n",
    "        \"is_employed\": {\n",
    "          \"field_type\": \"categorical\",\n",
    "          \"categorical\": {\n",
    "            \"value_type\": \"int8\",\n",
    "            \"strings_to_values\": {\n",
    "              \"False\": 1,\n",
    "              \"True\": 2\n",
    "            }\n",
    "          }\n",
    "        }\n",
    "      }\n",
    "    },\n",
    "    \"tests\": {\n",
    "      \"primary_keys\": [\n",
    "        \"id\"\n",
    "      ],\n",
    "      \"foreign_keys\": {\n",
    "        \"patient_id\": {\n",
    "          \"space\": \"patients\",\n",
    "          \"key\": \"id\"\n",
    "        }\n",
    "      },\n",
    "      \"fields\": {\n",
    "        \"id\": {\n",
    "          \"field_type\": \"fixed_string\",\n",
    "          \"length\": 32\n",
    "        },\n",
    "        \"patient_id\": {\n",
    "          \"field_type\": \"fixed_string\",\n",
    "          \"length\": 32\n",
    "        },\n",
    "        \"test_type\": {\n",
    "          \"field_type\": \"categorical\",\n",
    "          \"categorical\": {\n",
    "            \"value_type\": \"int8\",\n",
    "            \"strings_to_values\": {\n",
    "              \"Unknown\": 0,\n",
    "              \"Type1\": 1,\n",
    "              \"Type2\": 2\n",
    "            }\n",
    "          }\n",
    "        },\n",
    "        \"location\": {\n",
    "          \"field_type\": \"string\"\n",
    "        },\n",
    "        \"result\": {\n",
    "          \"field_type\": \"numeric\",\n",
    "          \"value_type\": \"int32\"\n",
    "        },\n",
    "        \"value\": {\n",
    "          \"field_type\": \"numeric\",\n",
    "          \"value_type\": \"float32\"\n",
    "        } \n",
    "      }\n",
    "    } \n",
    "  }\n",
    "}\n"
   ]
  },
  {
   "cell_type": "code",
   "execution_count": 24,
   "id": "5d0127f6",
   "metadata": {},
   "outputs": [],
   "source": [
    "import json\n",
    "with open(\"exeteraschema.json\") as o:\n",
    "    json.load(o)"
   ]
  },
  {
   "cell_type": "code",
   "execution_count": 12,
   "id": "b69115b5",
   "metadata": {},
   "outputs": [
    {
     "name": "stderr",
     "output_type": "stream",
     "text": [
      "'exetera.exe' is not recognized as an internal or external command,\n",
      "operable program or batch file.\n"
     ]
    }
   ],
   "source": [
    "!exetera -s exeteraschema.json -i \"participants:participants.csv, tests:tests.csv\" -o dataset.hdf5"
   ]
  },
  {
   "cell_type": "code",
   "execution_count": 28,
   "id": "7afc5f6b",
   "metadata": {},
   "outputs": [
    {
     "name": "stdout",
     "output_type": "stream",
     "text": [
      "9999-01-01T00:00:00\n"
     ]
    }
   ],
   "source": [
    "import numpy as np\n",
    "import datetime\n",
    "\n",
    "dt=datetime.datetime(year=9999, month=1, day=1)\n",
    "print(dt.isoformat())\n",
    "# print((dt - datetime.datetime(1970, 1, 1, tzinfo=datetime.timezone.utc)).total_seconds())\n",
    "# valid_tos = np.full(10, dt.timestamp())"
   ]
  }
 ],
 "metadata": {
  "kernelspec": {
   "display_name": "Python 3",
   "language": "python",
   "name": "python3"
  },
  "language_info": {
   "codemirror_mode": {
    "name": "ipython",
    "version": 3
   },
   "file_extension": ".py",
   "mimetype": "text/x-python",
   "name": "python",
   "nbconvert_exporter": "python",
   "pygments_lexer": "ipython3",
   "version": "3.7.9"
  }
 },
 "nbformat": 4,
 "nbformat_minor": 5
}
