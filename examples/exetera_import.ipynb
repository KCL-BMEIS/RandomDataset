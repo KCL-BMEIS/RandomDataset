{
 "cells": [
  {
   "cell_type": "markdown",
   "metadata": {},
   "source": [
    "# Exetera Import Example\n",
    "\n",
    "This example demonstrates creating a simple database with a RandomDataset schema then converting it to a Exetera databse with its JSON schema. \n",
    "\n",
    "First thing to do is import `randomdataset` from the parent of this directory:"
   ]
  },
  {
   "cell_type": "code",
   "execution_count": 1,
   "metadata": {},
   "outputs": [],
   "source": [
    "import os\n",
    "import sys\n",
    "\n",
    "sys.path.append(os.path.abspath(\"..\"))\n",
    "\n",
    "import randomdataset"
   ]
  },
  {
   "cell_type": "markdown",
   "metadata": {},
   "source": [
    "The YAML schema is written out which will be used to generate the random data:"
   ]
  },
  {
   "cell_type": "code",
   "execution_count": 15,
   "metadata": {},
   "outputs": [
    {
     "name": "stdout",
     "output_type": "stream",
     "text": [
      "Overwriting randomschema.yaml\n"
     ]
    }
   ],
   "source": [
    "%%writefile randomschema.yaml\n",
    "\n",
    "- typename: randomdataset.generators.CSVGenerator\n",
    "  num_lines: 10\n",
    "  dataset:\n",
    "    name: participants\n",
    "    typename: randomdataset.Dataset\n",
    "    fields:\n",
    "    - name: id\n",
    "      typename: randomdataset.UIDFieldGen\n",
    "    - name: FirstName\n",
    "      typename: randomdataset.StrFieldGen\n",
    "      lmin: 6\n",
    "      lmax: 14\n",
    "    - name: LastName\n",
    "      typename: randomdataset.StrFieldGen\n",
    "      lmin: 6\n",
    "      lmax: 14\n",
    "    - name: Age\n",
    "      typename: randomdataset.IntFieldGen\n",
    "      vmin: 18\n",
    "      vmax: 90\n",
    "    - name: is_employed\n",
    "      typename: randomdataset.BoolFieldGen\n",
    "      as_string: False\n",
    "        \n",
    "- typename: randomdataset.generators.CSVGenerator\n",
    "  num_lines: 10\n",
    "  dataset:\n",
    "    name: tests\n",
    "    typename: randomdataset.Dataset\n",
    "    fields:\n",
    "    - name: id\n",
    "      typename: randomdataset.UIDFieldGen\n",
    "    - name: patient_id\n",
    "      typename: randomdataset.IntFieldGen\n",
    "      vmin: 0\n",
    "      vmax: 10\n",
    "    - name: test_type\n",
    "      typename: randomdataset.SetFieldGen\n",
    "      field_type: str\n",
    "      values: [\"Type1\", \"Type2\", \"Unknown\"]\n",
    "    - name: location\n",
    "      typename: randomdataset.StrFieldGen\n",
    "    - name: result\n",
    "      typename: randomdataset.IntFieldGen\n",
    "      vmin: 0\n",
    "      vmax: 3\n",
    "    - name: value\n",
    "      typename: randomdataset.FloatFieldGen\n",
    "      vmin: 0\n",
    "      vmax: 9"
   ]
  },
  {
   "cell_type": "markdown",
   "metadata": {},
   "source": [
    "Instead of invoking the `generate_dataset` command line utility the command can be called directly through the imported library:"
   ]
  },
  {
   "cell_type": "code",
   "execution_count": 16,
   "metadata": {},
   "outputs": [
    {
     "name": "stdout",
     "output_type": "stream",
     "text": [
      "Schema: 'randomschema.yaml'\n",
      "Output: '.'\n"
     ]
    }
   ],
   "source": [
    "# !generate_dataset randomschema.yaml .\n",
    "randomdataset.application.generate_dataset.callback(\"randomschema.yaml\",\".\")"
   ]
  },
  {
   "cell_type": "markdown",
   "metadata": {},
   "source": [
    "Next the Exetera schema is written out, which looks like the YAML schema except with some extra specifiers for primary and foreign keys:"
   ]
  },
  {
   "cell_type": "code",
   "execution_count": 4,
   "metadata": {},
   "outputs": [
    {
     "name": "stdout",
     "output_type": "stream",
     "text": [
      "Writing exeteraschema.json\n"
     ]
    }
   ],
   "source": [
    "%%writefile exeteraschema.json\n",
    "\n",
    "{\n",
    "  \"exetera\": {\n",
    "    \"version\": \"1.0.0\"\n",
    "  },\n",
    "  \"schema\": {\n",
    "    \"participants\": {\n",
    "      \"primary_keys\": [\n",
    "        \"id\"\n",
    "      ],\n",
    "      \"fields\": {\n",
    "        \"id\": {\n",
    "          \"field_type\": \"fixed_string\",\n",
    "          \"length\": 32\n",
    "        },\n",
    "        \"FirstName\": {\n",
    "          \"field_type\": \"string\"\n",
    "        },\n",
    "        \"LastName\": {\n",
    "          \"field_type\": \"string\"\n",
    "        },\n",
    "        \"Age\": {\n",
    "          \"field_type\": \"numeric\",\n",
    "          \"value_type\": \"int32\"\n",
    "        },\n",
    "        \"is_employed\": {\n",
    "          \"field_type\": \"categorical\",\n",
    "          \"categorical\": {\n",
    "            \"value_type\": \"int8\",\n",
    "            \"strings_to_values\": {\n",
    "              \"False\": 1,\n",
    "              \"True\": 2\n",
    "            }\n",
    "          }\n",
    "        }\n",
    "      }\n",
    "    },\n",
    "    \"tests\": {\n",
    "      \"primary_keys\": [\n",
    "        \"id\"\n",
    "      ],\n",
    "      \"foreign_keys\": {\n",
    "        \"patient_id\": {\n",
    "          \"space\": \"patients\",\n",
    "          \"key\": \"id\"\n",
    "        }\n",
    "      },\n",
    "      \"fields\": {\n",
    "        \"id\": {\n",
    "          \"field_type\": \"fixed_string\",\n",
    "          \"length\": 32\n",
    "        },\n",
    "        \"patient_id\": {\n",
    "          \"field_type\": \"fixed_string\",\n",
    "          \"length\": 32\n",
    "        },\n",
    "        \"test_type\": {\n",
    "          \"field_type\": \"categorical\",\n",
    "          \"categorical\": {\n",
    "            \"value_type\": \"int8\",\n",
    "            \"strings_to_values\": {\n",
    "              \"Unknown\": 0,\n",
    "              \"Type1\": 1,\n",
    "              \"Type2\": 2\n",
    "            }\n",
    "          }\n",
    "        },\n",
    "        \"location\": {\n",
    "          \"field_type\": \"string\"\n",
    "        },\n",
    "        \"result\": {\n",
    "          \"field_type\": \"numeric\",\n",
    "          \"value_type\": \"int32\"\n",
    "        },\n",
    "        \"value\": {\n",
    "          \"field_type\": \"numeric\",\n",
    "          \"value_type\": \"float32\"\n",
    "        } \n",
    "      }\n",
    "    } \n",
    "  }\n",
    "}\n"
   ]
  },
  {
   "cell_type": "markdown",
   "metadata": {},
   "source": [
    "The conversion command is run to produce the HDF5 dataset:"
   ]
  },
  {
   "cell_type": "code",
   "execution_count": 19,
   "metadata": {},
   "outputs": [
    {
     "name": "stdout",
     "output_type": "stream",
     "text": [
      "{'participants': 'participants.csv', 'tests': 'tests.csv'}\n",
      "2021-04-07 22:20:09.965835+00:00\n",
      "exeteraschema.json\n",
      "{'participants': 'participants.csv', 'tests': 'tests.csv'}\n",
      "loading took 3.123283386230469e-05 seconds\n",
      "loading took 2.2649765014648438e-05 seconds\n",
      "0 rows parsed in 0.01653599739074707s\n",
      "9 rows parsed in 0.08344888687133789s\n",
      "participants <KeysViewHDF5 ['participants']>\n",
      "0 rows parsed in 0.01759171485900879s\n",
      "9 rows parsed in 0.1064302921295166s\n",
      "tests <KeysViewHDF5 ['participants', 'tests']>\n",
      "<KeysViewHDF5 ['participants', 'tests']>\n",
      "total 207M\n",
      "-rw-r--r-- 1 localek10 bioeng 207M Apr  7 23:20 dataset.hdf5\n",
      "-rw-r--r-- 1 localek10 bioeng 8.4K Apr  7 23:18 exetera_import.ipynb\n",
      "-rw-r--r-- 1 localek10 bioeng 1.7K Apr  7 23:11 exeteraschema.json\n",
      "-rw-r--r-- 1 localek10 bioeng  398 Apr  7 23:15 participants.csv\n",
      "-rw-r--r-- 1 localek10 bioeng 1.3K Apr  7 23:15 randomschema.yaml\n",
      "-rw-r--r-- 1 localek10 bioeng  456 Apr  7 23:15 tests.csv\n"
     ]
    }
   ],
   "source": [
    "%%bash\n",
    "\n",
    "exetera import -s exeteraschema.json -i \"participants:participants.csv, tests:tests.csv\" -o dataset.hdf5\n",
    "ls -lh"
   ]
  }
 ],
 "metadata": {
  "kernelspec": {
   "display_name": "Python 3",
   "language": "python",
   "name": "python3"
  },
  "language_info": {
   "codemirror_mode": {
    "name": "ipython",
    "version": 3
   },
   "file_extension": ".py",
   "mimetype": "text/x-python",
   "name": "python",
   "nbconvert_exporter": "python",
   "pygments_lexer": "ipython3",
   "version": "3.7.7"
  }
 },
 "nbformat": 4,
 "nbformat_minor": 5
}
